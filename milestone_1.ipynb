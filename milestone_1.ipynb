{
 "cells": [
  {
   "cell_type": "markdown",
   "metadata": {},
   "source": [
    "## Imports"
   ]
  },
  {
   "cell_type": "code",
   "execution_count": 1,
   "metadata": {},
   "outputs": [],
   "source": [
    "import re\n",
    "import os\n",
    "import glob\n",
    "import zipfile\n",
    "import requests\n",
    "from urllib.request import urlretrieve\n",
    "import json\n",
    "import pandas as pd"
   ]
  },
  {
   "cell_type": "markdown",
   "metadata": {
    "vscode": {
     "languageId": "javascript"
    }
   },
   "source": [
    "## 1) Downloading the Data"
   ]
  },
  {
   "cell_type": "code",
   "execution_count": 2,
   "metadata": {},
   "outputs": [
    {
     "name": "stderr",
     "output_type": "stream",
     "text": [
      "A subdirectory or file data already exists.\n"
     ]
    }
   ],
   "source": [
    "# We are downloading to the data/ folder in this repository\n",
    "\n",
    "%mkdir data\n",
    "# %cd data/"
   ]
  },
  {
   "cell_type": "code",
   "execution_count": 3,
   "metadata": {},
   "outputs": [],
   "source": [
    "# Setting metadata for download\n",
    "article_id = 14096681  # this is the unique identifier of the article on figshare\n",
    "url = f\"https://api.figshare.com/v2/articles/{article_id}\"\n",
    "headers = {\"Content-Type\": \"application/json\"}\n",
    "output_directory = \"data/\""
   ]
  },
  {
   "cell_type": "code",
   "execution_count": 4,
   "metadata": {},
   "outputs": [
    {
     "data": {
      "text/plain": [
       "[{'id': 26579150,\n",
       "  'name': 'daily_rainfall_2014.png',\n",
       "  'size': 58863,\n",
       "  'is_link_only': False,\n",
       "  'download_url': 'https://ndownloader.figshare.com/files/26579150',\n",
       "  'supplied_md5': 'fd32a2ffde300a31f8d63b1825d47e5e',\n",
       "  'computed_md5': 'fd32a2ffde300a31f8d63b1825d47e5e',\n",
       "  'mimetype': 'image/png'},\n",
       " {'id': 26579171,\n",
       "  'name': 'environment.yml',\n",
       "  'size': 192,\n",
       "  'is_link_only': False,\n",
       "  'download_url': 'https://ndownloader.figshare.com/files/26579171',\n",
       "  'supplied_md5': '060b2020017eed93a1ee7dd8c65b2f34',\n",
       "  'computed_md5': '060b2020017eed93a1ee7dd8c65b2f34',\n",
       "  'mimetype': 'text/plain'},\n",
       " {'id': 26586554,\n",
       "  'name': 'README.md',\n",
       "  'size': 5422,\n",
       "  'is_link_only': False,\n",
       "  'download_url': 'https://ndownloader.figshare.com/files/26586554',\n",
       "  'supplied_md5': '61858c6cc0e6a6d6663a7e4c75bbd88c',\n",
       "  'computed_md5': '61858c6cc0e6a6d6663a7e4c75bbd88c',\n",
       "  'mimetype': 'text/x-python'},\n",
       " {'id': 26766812,\n",
       "  'name': 'data.zip',\n",
       "  'size': 814041183,\n",
       "  'is_link_only': False,\n",
       "  'download_url': 'https://ndownloader.figshare.com/files/26766812',\n",
       "  'supplied_md5': 'b517383f76e77bd03755a63a8ff83ee9',\n",
       "  'computed_md5': 'b517383f76e77bd03755a63a8ff83ee9',\n",
       "  'mimetype': 'application/zip'},\n",
       " {'id': 26766815,\n",
       "  'name': 'get_data.py',\n",
       "  'size': 4113,\n",
       "  'is_link_only': False,\n",
       "  'download_url': 'https://ndownloader.figshare.com/files/26766815',\n",
       "  'supplied_md5': '7829028495fd9dec9680ea013474afa6',\n",
       "  'computed_md5': '7829028495fd9dec9680ea013474afa6',\n",
       "  'mimetype': 'text/x-python'}]"
      ]
     },
     "execution_count": 4,
     "metadata": {},
     "output_type": "execute_result"
    }
   ],
   "source": [
    "response = requests.request(\"GET\", url, headers=headers)\n",
    "data = json.loads(response.text)  # this contains all the articles data, feel free to check it out\n",
    "files = data[\"files\"]             # this is just the data about the files, which is what we want\n",
    "files"
   ]
  },
  {
   "cell_type": "code",
   "execution_count": 5,
   "metadata": {},
   "outputs": [
    {
     "name": "stdout",
     "output_type": "stream",
     "text": [
      "CPU times: total: 6.38 s\n",
      "Wall time: 29min 30s\n"
     ]
    }
   ],
   "source": [
    "%%time\n",
    "\n",
    "# Download the file \"data.zip\"\n",
    "files_to_dl = [\"data.zip\"]\n",
    "for file in files:\n",
    "    if file[\"name\"] in files_to_dl:\n",
    "        os.makedirs(output_directory, exist_ok=True)\n",
    "        urlretrieve(file[\"download_url\"], output_directory + file[\"name\"])"
   ]
  },
  {
   "cell_type": "code",
   "execution_count": 6,
   "metadata": {},
   "outputs": [
    {
     "name": "stdout",
     "output_type": "stream",
     "text": [
      "CPU times: total: 15.2 s\n",
      "Wall time: 1min 8s\n"
     ]
    }
   ],
   "source": [
    "%%time\n",
    "\n",
    "# Unzip the CSVs from the zip file\n",
    "with zipfile.ZipFile(os.path.join(output_directory, \"data.zip\"), 'r') as f:\n",
    "    f.extractall(output_directory)"
   ]
  },
  {
   "cell_type": "code",
   "execution_count": 8,
   "metadata": {},
   "outputs": [
    {
     "name": "stdout",
     "output_type": "stream",
     "text": [
      " Volume in drive C is OS\n",
      " Volume Serial Number is 1837-1226\n",
      "\n",
      " Directory of c:\\Users\\timot\\OneDrive - UBC\\Documents\\Semester 2\\Block 6\\525\\rainfall-predictor\n",
      "\n",
      "\n",
      " Directory of c:\\Users\\timot\\OneDrive - UBC\\Documents\\Semester 2\\Block 6\\525\\rainfall-predictor\\data\n",
      "\n",
      "25/03/2025  02:34 pm    <DIR>          .\n",
      "24/03/2025  12:18 pm    <DIR>          ..\n",
      "25/03/2025  02:34 pm    <DIR>          __MACOSX\n",
      "25/03/2025  02:33 pm       127,613,760 ACCESS-CM2_daily_rainfall_NSW.csv\n",
      "25/03/2025  02:33 pm       114,707,410 ACCESS-ESM1-5_daily_rainfall_NSW.csv\n",
      "25/03/2025  02:33 pm        94,960,113 AWI-ESM-1-1-LR_daily_rainfall_NSW.csv\n",
      "25/03/2025  02:33 pm       294,260,911 BCC-CSM2-MR_daily_rainfall_NSW.csv\n",
      "25/03/2025  02:34 pm        55,224,437 BCC-ESM1_daily_rainfall_NSW.csv\n",
      "25/03/2025  02:34 pm        46,286,371 CanESM5_daily_rainfall_NSW.csv\n",
      "25/03/2025  02:33 pm       330,360,682 CMCC-CM2-HR4_daily_rainfall_NSW.csv\n",
      "25/03/2025  02:34 pm       328,787,320 CMCC-CM2-SR5_daily_rainfall_NSW.csv\n",
      "25/03/2025  02:33 pm       328,852,379 CMCC-ESM2_daily_rainfall_NSW.csv\n",
      "25/03/2025  02:33 pm       814,041,183 data.zip\n",
      "25/03/2025  02:33 pm       295,768,615 EC-Earth3-Veg-LR_daily_rainfall_NSW.csv\n",
      "25/03/2025  02:33 pm       232,118,894 FGOALS-f3-L_daily_rainfall_NSW.csv\n",
      "25/03/2025  02:33 pm       116,179,272 FGOALS-g3_daily_rainfall_NSW.csv\n",
      "25/03/2025  02:33 pm       235,661,418 GFDL-CM4_daily_rainfall_NSW.csv\n",
      "25/03/2025  02:34 pm       124,586,961 GFDL-ESM4_daily_rainfall_NSW.csv\n",
      "25/03/2025  02:33 pm       102,517,965 INM-CM4-8_daily_rainfall_NSW.csv\n",
      "25/03/2025  02:34 pm       102,692,289 INM-CM5-0_daily_rainfall_NSW.csv\n",
      "25/03/2025  02:34 pm        93,829,697 KIOST-ESM_daily_rainfall_NSW.csv\n",
      "25/03/2025  02:34 pm       206,822,938 MIROC6_daily_rainfall_NSW.csv\n",
      "25/03/2025  02:33 pm        95,376,895 MPI-ESM-1-2-HAM_daily_rainfall_NSW.csv\n",
      "25/03/2025  02:34 pm       515,458,033 MPI-ESM1-2-HR_daily_rainfall_NSW.csv\n",
      "25/03/2025  02:33 pm        95,640,682 MPI-ESM1-2-LR_daily_rainfall_NSW.csv\n",
      "25/03/2025  02:33 pm       254,009,247 MRI-ESM2-0_daily_rainfall_NSW.csv\n",
      "25/03/2025  02:33 pm        67,784,105 NESM3_daily_rainfall_NSW.csv\n",
      "25/03/2025  02:33 pm        82,474,546 NorESM2-LM_daily_rainfall_NSW.csv\n",
      "25/03/2025  02:34 pm       337,555,851 NorESM2-MM_daily_rainfall_NSW.csv\n",
      "25/03/2025  02:34 pm           952,202 observed_daily_rainfall_SYD.csv\n",
      "25/03/2025  02:34 pm       333,489,879 SAM0-UNICON_daily_rainfall_NSW.csv\n",
      "25/03/2025  02:34 pm       332,813,281 TaiESM1_daily_rainfall_NSW.csv\n",
      "              29 File(s)  6,160,827,336 bytes\n",
      "               3 Dir(s)  66,555,428,864 bytes free\n"
     ]
    },
    {
     "name": "stderr",
     "output_type": "stream",
     "text": [
      "File Not Found\n"
     ]
    }
   ],
   "source": [
    "# View files that were extracted\n",
    "%ls -ltr data"
   ]
  },
  {
   "cell_type": "markdown",
   "metadata": {},
   "source": [
    "## 2) Combining CSVs"
   ]
  },
  {
   "cell_type": "code",
   "execution_count": 26,
   "metadata": {},
   "outputs": [
    {
     "name": "stdout",
     "output_type": "stream",
     "text": [
      "CPU times: total: 10min 42s\n",
      "Wall time: 12min 17s\n"
     ]
    }
   ],
   "source": [
    "%%time\n",
    "\n",
    "# Combine\n",
    "use_cols = [\"time\", \"lat_min\", \"lat_max\", \"lon_min\", \"lon_max\", \"rain (mm/day)\"]\n",
    "files = glob.glob('data/*.csv')\n",
    "df = pd.concat(pd.read_csv(file, index_col=0, usecols=use_cols)\n",
    "                .assign(model=re.findall(r\"data\\\\([^_]*)\", file)[0])    # Extra data\\ to account for Windows file scheme\n",
    "                for file in files\n",
    "              )\n",
    "df.to_csv(\"data/combined_data.csv\")"
   ]
  },
  {
   "cell_type": "markdown",
   "metadata": {},
   "source": [
    "**Time Comparison with Lab Members**\n",
    "\n",
    "| preferred lab partner(s) | Operating System | RAM | Processor | Is SSD | Time taken |\n",
    "|:-----------:|:----------------:|:---:|:---------:|:------:|:----------:|\n",
    "| Timothy Singh | Windows 11 Home | 16GB | Intel i7-11800H | Yes |  10 minutes |\n",
    "| Benjamin Frizzell  | MacOS  | 8GB | Intel i5 Duo Core |  Yes | 3 minutes  |\n",
    "| Stephanie Ta   | Windows 10  | 16GB  | Intel i7-1065G7  |  Yes  | 4 minutes |\n",
    "| Meagan Gardener   |  MacOS  |  16GB  | Apple M3   |  Yes  | 3 minutes |"
   ]
  },
  {
   "cell_type": "markdown",
   "metadata": {},
   "source": [
    "## 3) Load the combined CSV to memory and perform a simple EDA\n"
   ]
  },
  {
   "cell_type": "markdown",
   "metadata": {},
   "source": [
    "Here, we will load the data in chunks, getting rid of the `lat_min`, `lat_max`, `lon_min` and `lon_max` columns, and convert values in the `rain (mm/day)` column to `float32`"
   ]
  },
  {
   "cell_type": "code",
   "execution_count": null,
   "metadata": {},
   "outputs": [
    {
     "name": "stdout",
     "output_type": "stream",
     "text": [
      "CPU times: total: 4min 43s\n",
      "Wall time: 4min 47s\n"
     ]
    },
    {
     "data": {
      "text/html": [
       "<div>\n",
       "<style scoped>\n",
       "    .dataframe tbody tr th:only-of-type {\n",
       "        vertical-align: middle;\n",
       "    }\n",
       "\n",
       "    .dataframe tbody tr th {\n",
       "        vertical-align: top;\n",
       "    }\n",
       "\n",
       "    .dataframe thead th {\n",
       "        text-align: right;\n",
       "    }\n",
       "</style>\n",
       "<table border=\"1\" class=\"dataframe\">\n",
       "  <thead>\n",
       "    <tr style=\"text-align: right;\">\n",
       "      <th></th>\n",
       "      <th>0</th>\n",
       "    </tr>\n",
       "  </thead>\n",
       "  <tbody>\n",
       "    <tr>\n",
       "      <th>3.454034e+06</th>\n",
       "      <td>&lt;NA&gt;</td>\n",
       "    </tr>\n",
       "    <tr>\n",
       "      <th>3.571729e+06</th>\n",
       "      <td>&lt;NA&gt;</td>\n",
       "    </tr>\n",
       "    <tr>\n",
       "      <th>1.958036e+06</th>\n",
       "      <td>&lt;NA&gt;</td>\n",
       "    </tr>\n",
       "    <tr>\n",
       "      <th>5.924474e+06</th>\n",
       "      <td>&lt;NA&gt;</td>\n",
       "    </tr>\n",
       "    <tr>\n",
       "      <th>9.994724e+05</th>\n",
       "      <td>&lt;NA&gt;</td>\n",
       "    </tr>\n",
       "    <tr>\n",
       "      <th>8.071704e+06</th>\n",
       "      <td>&lt;NA&gt;</td>\n",
       "    </tr>\n",
       "    <tr>\n",
       "      <th>8.440127e+06</th>\n",
       "      <td>&lt;NA&gt;</td>\n",
       "    </tr>\n",
       "    <tr>\n",
       "      <th>8.024869e+06</th>\n",
       "      <td>&lt;NA&gt;</td>\n",
       "    </tr>\n",
       "    <tr>\n",
       "      <th>1.045442e+06</th>\n",
       "      <td>&lt;NA&gt;</td>\n",
       "    </tr>\n",
       "    <tr>\n",
       "      <th>4.605362e+06</th>\n",
       "      <td>&lt;NA&gt;</td>\n",
       "    </tr>\n",
       "    <tr>\n",
       "      <th>5.239002e+06</th>\n",
       "      <td>&lt;NA&gt;</td>\n",
       "    </tr>\n",
       "    <tr>\n",
       "      <th>2.776865e+06</th>\n",
       "      <td>&lt;NA&gt;</td>\n",
       "    </tr>\n",
       "    <tr>\n",
       "      <th>4.553653e+06</th>\n",
       "      <td>&lt;NA&gt;</td>\n",
       "    </tr>\n",
       "    <tr>\n",
       "      <th>0.000000e+00</th>\n",
       "      <td>&lt;NA&gt;</td>\n",
       "    </tr>\n",
       "    <tr>\n",
       "      <th>4.525471e+06</th>\n",
       "      <td>&lt;NA&gt;</td>\n",
       "    </tr>\n",
       "    <tr>\n",
       "      <th>4.296175e+06</th>\n",
       "      <td>&lt;NA&gt;</td>\n",
       "    </tr>\n",
       "    <tr>\n",
       "      <th>1.419522e+06</th>\n",
       "      <td>&lt;NA&gt;</td>\n",
       "    </tr>\n",
       "    <tr>\n",
       "      <th>4.766511e+06</th>\n",
       "      <td>&lt;NA&gt;</td>\n",
       "    </tr>\n",
       "    <tr>\n",
       "      <th>1.556632e+06</th>\n",
       "      <td>&lt;NA&gt;</td>\n",
       "    </tr>\n",
       "    <tr>\n",
       "      <th>5.131401e+06</th>\n",
       "      <td>&lt;NA&gt;</td>\n",
       "    </tr>\n",
       "    <tr>\n",
       "      <th>1.038233e+06</th>\n",
       "      <td>&lt;NA&gt;</td>\n",
       "    </tr>\n",
       "    <tr>\n",
       "      <th>4.155145e+06</th>\n",
       "      <td>&lt;NA&gt;</td>\n",
       "    </tr>\n",
       "    <tr>\n",
       "      <th>1.567471e+06</th>\n",
       "      <td>&lt;NA&gt;</td>\n",
       "    </tr>\n",
       "    <tr>\n",
       "      <th>2.051889e+06</th>\n",
       "      <td>&lt;NA&gt;</td>\n",
       "    </tr>\n",
       "    <tr>\n",
       "      <th>7.907445e+06</th>\n",
       "      <td>&lt;NA&gt;</td>\n",
       "    </tr>\n",
       "    <tr>\n",
       "      <th>7.683156e+06</th>\n",
       "      <td>&lt;NA&gt;</td>\n",
       "    </tr>\n",
       "    <tr>\n",
       "      <th>7.877735e+06</th>\n",
       "      <td>&lt;NA&gt;</td>\n",
       "    </tr>\n",
       "    <tr>\n",
       "      <th>1.126416e+08</th>\n",
       "      <td>&lt;NA&gt;</td>\n",
       "    </tr>\n",
       "  </tbody>\n",
       "</table>\n",
       "</div>"
      ],
      "text/plain": [
       "                 0\n",
       "3.454034e+06  <NA>\n",
       "3.571729e+06  <NA>\n",
       "1.958036e+06  <NA>\n",
       "5.924474e+06  <NA>\n",
       "9.994724e+05  <NA>\n",
       "8.071704e+06  <NA>\n",
       "8.440127e+06  <NA>\n",
       "8.024869e+06  <NA>\n",
       "1.045442e+06  <NA>\n",
       "4.605362e+06  <NA>\n",
       "5.239002e+06  <NA>\n",
       "2.776865e+06  <NA>\n",
       "4.553653e+06  <NA>\n",
       "0.000000e+00  <NA>\n",
       "4.525471e+06  <NA>\n",
       "4.296175e+06  <NA>\n",
       "1.419522e+06  <NA>\n",
       "4.766511e+06  <NA>\n",
       "1.556632e+06  <NA>\n",
       "5.131401e+06  <NA>\n",
       "1.038233e+06  <NA>\n",
       "4.155145e+06  <NA>\n",
       "1.567471e+06  <NA>\n",
       "2.051889e+06  <NA>\n",
       "7.907445e+06  <NA>\n",
       "7.683156e+06  <NA>\n",
       "7.877735e+06  <NA>\n",
       "1.126416e+08  <NA>"
      ]
     },
     "execution_count": 34,
     "metadata": {},
     "output_type": "execute_result"
    }
   ],
   "source": [
    "%%time\n",
    "\n",
    "# Load only \"time\". \"model\" and \"rain (mm/day) columns, with \n",
    "# \"time\" as datetime, \"model\" as string and \"rain (mm/day) as float32\n",
    "# Also read as chunks, and perform EDA on each chunk\n",
    "\n",
    "usecols = [\"time\", \"rain (mm/day)\", \"model\"]\n",
    "dtypes = {\"time\": \"string\",\n",
    "          \"rain (mm/day)\": \"float32\",\n",
    "          \"model\": \"string\"}\n",
    "          \n",
    "value_counts = pd.Series(dtype=int)\n",
    "rainfall_total = pd.Series(dtype=float)\n",
    "\n",
    "for chunk in pd.read_csv(\"data/combined_data.csv\",\n",
    "    usecols = usecols,\n",
    "    dtype = dtypes,\n",
    "    parse_dates=[\"time\"] ,\n",
    "    chunksize=1_000_000\n",
    "):\n",
    "    value_counts = value_counts.add(chunk[\"model\"].value_counts(), fill_value=0)\n",
    "    rainfall_total = rainfall_total.add(chunk.groupby(\"model\")[\"rain (mm/day)\"].sum(), fill_value=0)"
   ]
  },
  {
   "cell_type": "code",
   "execution_count": 49,
   "metadata": {},
   "outputs": [
    {
     "data": {
      "text/html": [
       "<div>\n",
       "<style scoped>\n",
       "    .dataframe tbody tr th:only-of-type {\n",
       "        vertical-align: middle;\n",
       "    }\n",
       "\n",
       "    .dataframe tbody tr th {\n",
       "        vertical-align: top;\n",
       "    }\n",
       "\n",
       "    .dataframe thead th {\n",
       "        text-align: right;\n",
       "    }\n",
       "</style>\n",
       "<table border=\"1\" class=\"dataframe\">\n",
       "  <thead>\n",
       "    <tr style=\"text-align: right;\">\n",
       "      <th></th>\n",
       "      <th>model</th>\n",
       "      <th>rainfall_total</th>\n",
       "      <th>values_count</th>\n",
       "    </tr>\n",
       "  </thead>\n",
       "  <tbody>\n",
       "    <tr>\n",
       "      <th>0</th>\n",
       "      <td>ACCESS-CM2</td>\n",
       "      <td>3.454034e+06</td>\n",
       "      <td>1932840.0</td>\n",
       "    </tr>\n",
       "    <tr>\n",
       "      <th>1</th>\n",
       "      <td>ACCESS-ESM1-5</td>\n",
       "      <td>3.571729e+06</td>\n",
       "      <td>1610700.0</td>\n",
       "    </tr>\n",
       "    <tr>\n",
       "      <th>2</th>\n",
       "      <td>AWI-ESM-1-1-LR</td>\n",
       "      <td>1.958036e+06</td>\n",
       "      <td>966420.0</td>\n",
       "    </tr>\n",
       "    <tr>\n",
       "      <th>3</th>\n",
       "      <td>BCC-CSM2-MR</td>\n",
       "      <td>5.924474e+06</td>\n",
       "      <td>3035340.0</td>\n",
       "    </tr>\n",
       "    <tr>\n",
       "      <th>4</th>\n",
       "      <td>BCC-ESM1</td>\n",
       "      <td>9.994724e+05</td>\n",
       "      <td>551880.0</td>\n",
       "    </tr>\n",
       "    <tr>\n",
       "      <th>5</th>\n",
       "      <td>CMCC-CM2-HR4</td>\n",
       "      <td>8.071704e+06</td>\n",
       "      <td>3541230.0</td>\n",
       "    </tr>\n",
       "    <tr>\n",
       "      <th>6</th>\n",
       "      <td>CMCC-CM2-SR5</td>\n",
       "      <td>8.440127e+06</td>\n",
       "      <td>3541230.0</td>\n",
       "    </tr>\n",
       "    <tr>\n",
       "      <th>7</th>\n",
       "      <td>CMCC-ESM2</td>\n",
       "      <td>8.024869e+06</td>\n",
       "      <td>3541230.0</td>\n",
       "    </tr>\n",
       "    <tr>\n",
       "      <th>8</th>\n",
       "      <td>CanESM5</td>\n",
       "      <td>1.045442e+06</td>\n",
       "      <td>551880.0</td>\n",
       "    </tr>\n",
       "    <tr>\n",
       "      <th>9</th>\n",
       "      <td>EC-Earth3-Veg-LR</td>\n",
       "      <td>4.605362e+06</td>\n",
       "      <td>3037320.0</td>\n",
       "    </tr>\n",
       "    <tr>\n",
       "      <th>10</th>\n",
       "      <td>FGOALS-f3-L</td>\n",
       "      <td>5.239002e+06</td>\n",
       "      <td>3219300.0</td>\n",
       "    </tr>\n",
       "    <tr>\n",
       "      <th>11</th>\n",
       "      <td>FGOALS-g3</td>\n",
       "      <td>2.776865e+06</td>\n",
       "      <td>1287720.0</td>\n",
       "    </tr>\n",
       "    <tr>\n",
       "      <th>12</th>\n",
       "      <td>GFDL-CM4</td>\n",
       "      <td>4.553653e+06</td>\n",
       "      <td>3219300.0</td>\n",
       "    </tr>\n",
       "    <tr>\n",
       "      <th>13</th>\n",
       "      <td>GFDL-ESM4</td>\n",
       "      <td>0.000000e+00</td>\n",
       "      <td>3219300.0</td>\n",
       "    </tr>\n",
       "    <tr>\n",
       "      <th>14</th>\n",
       "      <td>INM-CM4-8</td>\n",
       "      <td>4.525471e+06</td>\n",
       "      <td>1609650.0</td>\n",
       "    </tr>\n",
       "    <tr>\n",
       "      <th>15</th>\n",
       "      <td>INM-CM5-0</td>\n",
       "      <td>4.296175e+06</td>\n",
       "      <td>1609650.0</td>\n",
       "    </tr>\n",
       "    <tr>\n",
       "      <th>16</th>\n",
       "      <td>KIOST-ESM</td>\n",
       "      <td>1.419522e+06</td>\n",
       "      <td>1287720.0</td>\n",
       "    </tr>\n",
       "    <tr>\n",
       "      <th>17</th>\n",
       "      <td>MIROC6</td>\n",
       "      <td>4.766511e+06</td>\n",
       "      <td>2070900.0</td>\n",
       "    </tr>\n",
       "    <tr>\n",
       "      <th>18</th>\n",
       "      <td>MPI-ESM-1-2-HAM</td>\n",
       "      <td>1.556632e+06</td>\n",
       "      <td>966420.0</td>\n",
       "    </tr>\n",
       "    <tr>\n",
       "      <th>19</th>\n",
       "      <td>MPI-ESM1-2-HR</td>\n",
       "      <td>5.131401e+06</td>\n",
       "      <td>5154240.0</td>\n",
       "    </tr>\n",
       "    <tr>\n",
       "      <th>20</th>\n",
       "      <td>MPI-ESM1-2-LR</td>\n",
       "      <td>1.038233e+06</td>\n",
       "      <td>966420.0</td>\n",
       "    </tr>\n",
       "    <tr>\n",
       "      <th>21</th>\n",
       "      <td>MRI-ESM2-0</td>\n",
       "      <td>4.155145e+06</td>\n",
       "      <td>3037320.0</td>\n",
       "    </tr>\n",
       "    <tr>\n",
       "      <th>22</th>\n",
       "      <td>NESM3</td>\n",
       "      <td>1.567471e+06</td>\n",
       "      <td>966420.0</td>\n",
       "    </tr>\n",
       "    <tr>\n",
       "      <th>23</th>\n",
       "      <td>NorESM2-LM</td>\n",
       "      <td>2.051889e+06</td>\n",
       "      <td>919800.0</td>\n",
       "    </tr>\n",
       "    <tr>\n",
       "      <th>24</th>\n",
       "      <td>NorESM2-MM</td>\n",
       "      <td>7.907445e+06</td>\n",
       "      <td>3541230.0</td>\n",
       "    </tr>\n",
       "    <tr>\n",
       "      <th>25</th>\n",
       "      <td>SAM0-UNICON</td>\n",
       "      <td>7.683156e+06</td>\n",
       "      <td>3541153.0</td>\n",
       "    </tr>\n",
       "    <tr>\n",
       "      <th>26</th>\n",
       "      <td>TaiESM1</td>\n",
       "      <td>7.877735e+06</td>\n",
       "      <td>3541230.0</td>\n",
       "    </tr>\n",
       "    <tr>\n",
       "      <th>27</th>\n",
       "      <td>combined</td>\n",
       "      <td>1.126416e+08</td>\n",
       "      <td>62467843.0</td>\n",
       "    </tr>\n",
       "  </tbody>\n",
       "</table>\n",
       "</div>"
      ],
      "text/plain": [
       "               model  rainfall_total  values_count\n",
       "0         ACCESS-CM2    3.454034e+06     1932840.0\n",
       "1      ACCESS-ESM1-5    3.571729e+06     1610700.0\n",
       "2     AWI-ESM-1-1-LR    1.958036e+06      966420.0\n",
       "3        BCC-CSM2-MR    5.924474e+06     3035340.0\n",
       "4           BCC-ESM1    9.994724e+05      551880.0\n",
       "5       CMCC-CM2-HR4    8.071704e+06     3541230.0\n",
       "6       CMCC-CM2-SR5    8.440127e+06     3541230.0\n",
       "7          CMCC-ESM2    8.024869e+06     3541230.0\n",
       "8            CanESM5    1.045442e+06      551880.0\n",
       "9   EC-Earth3-Veg-LR    4.605362e+06     3037320.0\n",
       "10       FGOALS-f3-L    5.239002e+06     3219300.0\n",
       "11         FGOALS-g3    2.776865e+06     1287720.0\n",
       "12          GFDL-CM4    4.553653e+06     3219300.0\n",
       "13         GFDL-ESM4    0.000000e+00     3219300.0\n",
       "14         INM-CM4-8    4.525471e+06     1609650.0\n",
       "15         INM-CM5-0    4.296175e+06     1609650.0\n",
       "16         KIOST-ESM    1.419522e+06     1287720.0\n",
       "17            MIROC6    4.766511e+06     2070900.0\n",
       "18   MPI-ESM-1-2-HAM    1.556632e+06      966420.0\n",
       "19     MPI-ESM1-2-HR    5.131401e+06     5154240.0\n",
       "20     MPI-ESM1-2-LR    1.038233e+06      966420.0\n",
       "21        MRI-ESM2-0    4.155145e+06     3037320.0\n",
       "22             NESM3    1.567471e+06      966420.0\n",
       "23        NorESM2-LM    2.051889e+06      919800.0\n",
       "24        NorESM2-MM    7.907445e+06     3541230.0\n",
       "25       SAM0-UNICON    7.683156e+06     3541153.0\n",
       "26           TaiESM1    7.877735e+06     3541230.0\n",
       "27          combined    1.126416e+08    62467843.0"
      ]
     },
     "execution_count": 49,
     "metadata": {},
     "output_type": "execute_result"
    }
   ],
   "source": [
    "eda_summary = pd.DataFrame({\n",
    "    \"model\": rainfall_total.index,\n",
    "    \"rainfall_total\": rainfall_total.values,\n",
    "    \"values_count\": value_counts.values\n",
    "    }\n",
    ")\n",
    "\n",
    "eda_summary"
   ]
  },
  {
   "cell_type": "code",
   "execution_count": null,
   "metadata": {},
   "outputs": [
    {
     "data": {
      "image/png": "[encoded data removed]",
      "text/plain": [
       "<Figure size 1000x500 with 1 Axes>"
      ]
     },
     "metadata": {},
     "output_type": "display_data"
    }
   ],
   "source": [
    "import matplotlib.pyplot as plt\n",
    "\n",
    "plt.figure(figsize=(10, 5))\n",
    "plt.bar(eda_summary[\"model\"], eda_summary[\"rainfall_total\"], color=\"skyblue\")\n",
    "\n",
    "# Titles and labels\n",
    "plt.title(\"Total Rainfall by Model\", fontsize=14)\n",
    "plt.xlabel(\"Model\", fontsize=12)\n",
    "plt.ylabel(\"Total Rainfall (mm)\", fontsize=12)\n",
    "plt.xticks(rotation=90)  \n",
    "\n",
    "plt.show();\n"
   ]
  },
  {
   "cell_type": "markdown",
   "metadata": {},
   "source": [
    "**Time Comparison with Lab Members**\n",
    "\n",
    "| preferred lab partner(s) | Operating System | RAM | Processor | Is SSD | Time taken | Methods used for Loading |\n",
    "|:-----------:|:----------------:|:---:|:---------:|:------:|:----------:|:---------------------------:|\n",
    "| Timothy Singh | Windows 11 Home | 16GB | Intel i7-11800H | Yes |  5 minutes | Only relevant columns, data type conversion, chunk loading |\n",
    "| Benjamin Frizzell  | MacOS  | 8GB | Intel i5 Duo Core |  Yes | 1 minute  | Only relevant columns, data type conversion, parquet file saving |\n",
    "| Stephanie Ta   | Windows 10  | 16GB  | Intel i7-1065G7  |  Yes  | 1 minute | Only relevant columns, data type conversion | \n",
    "| Meagan Gardener   |  MacOS  |  16GB  | Apple M3   |  Yes  | 20 seconds | Q |"
   ]
  },
  {
   "cell_type": "markdown",
   "metadata": {},
   "source": [
    "## 4) Perform a simple EDA in R"
   ]
  },
  {
   "cell_type": "code",
   "execution_count": null,
   "metadata": {},
   "outputs": [],
   "source": [
    "%%time\n",
    "import pyarrow.dataset as ds\n",
    "\n",
    "df = ds.dataset(filepathcsv, format=\"csv\")\n",
    "result = df.scanner(columns=use_cols)\n",
    "ds.write_dataset(result,filepathparquet,format = \"parquet\",partitioning=[\"year\"],partitioning_flavor=\"hive\", existing_data_behavior = 'overwrite_or_ignore')"
   ]
  },
  {
   "cell_type": "markdown",
   "metadata": {},
   "source": []
  }
 ],
 "metadata": {
  "kernelspec": {
   "display_name": "525_2025",
   "language": "python",
   "name": "python3"
  },
  "language_info": {
   "codemirror_mode": {
    "name": "ipython",
    "version": 3
   },
   "file_extension": ".py",
   "mimetype": "text/x-python",
   "name": "python",
   "nbconvert_exporter": "python",
   "pygments_lexer": "ipython3",
   "version": "3.11.11"
  }
 },
 "nbformat": 4,
 "nbformat_minor": 2
}
