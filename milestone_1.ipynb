{
 "cells": [
  {
   "cell_type": "markdown",
   "metadata": {},
   "source": [
    "## Imports"
   ]
  },
  {
   "cell_type": "code",
   "execution_count": 1,
   "metadata": {},
   "outputs": [
    {
     "name": "stderr",
     "output_type": "stream",
     "text": [
      "c:\\Users\\timot\\miniforge3\\envs\\525_2025\\Lib\\site-packages\\rpy2\\robjects\\packages.py:367: UserWarning: The symbol 'quartz' is not in this R namespace/package.\n",
      "  warnings.warn(\n"
     ]
    }
   ],
   "source": [
    "import os\n",
    "os.environ['R_HOME'] = 'C:/Users/timot/miniforge3/envs/525_2025/lib/R'\n",
    "import re\n",
    "import glob\n",
    "import zipfile\n",
    "import requests\n",
    "from urllib.request import urlretrieve\n",
    "import json\n",
    "import pandas as pd\n",
    "\n",
    "%load_ext rpy2.ipython\n",
    "import pyarrow.dataset as ds\n",
    "import pyarrow as pa\n",
    "import pandas as pd\n",
    "import pyarrow \n",
    "from pyarrow import csv\n",
    "import rpy2_arrow.pyarrow_rarrow as pyra"
   ]
  },
  {
   "cell_type": "markdown",
   "metadata": {
    "vscode": {
     "languageId": "javascript"
    }
   },
   "source": [
    "## 1) Downloading the Data"
   ]
  },
  {
   "cell_type": "code",
   "execution_count": 2,
   "metadata": {},
   "outputs": [
    {
     "name": "stderr",
     "output_type": "stream",
     "text": [
      "A subdirectory or file data already exists.\n"
     ]
    }
   ],
   "source": [
    "# We are downloading to the data/ folder in this repository\n",
    "\n",
    "%mkdir data\n",
    "# %cd data/"
   ]
  },
  {
   "cell_type": "code",
   "execution_count": 3,
   "metadata": {},
   "outputs": [],
   "source": [
    "# Setting metadata for download\n",
    "article_id = 14096681  # this is the unique identifier of the article on figshare\n",
    "url = f\"https://api.figshare.com/v2/articles/{article_id}\"\n",
    "headers = {\"Content-Type\": \"application/json\"}\n",
    "output_directory = \"data/\""
   ]
  },
  {
   "cell_type": "code",
   "execution_count": 4,
   "metadata": {},
   "outputs": [
    {
     "data": {
      "text/plain": [
       "[{'id': 26579150,\n",
       "  'name': 'daily_rainfall_2014.png',\n",
       "  'size': 58863,\n",
       "  'is_link_only': False,\n",
       "  'download_url': 'https://ndownloader.figshare.com/files/26579150',\n",
       "  'supplied_md5': 'fd32a2ffde300a31f8d63b1825d47e5e',\n",
       "  'computed_md5': 'fd32a2ffde300a31f8d63b1825d47e5e',\n",
       "  'mimetype': 'image/png'},\n",
       " {'id': 26579171,\n",
       "  'name': 'environment.yml',\n",
       "  'size': 192,\n",
       "  'is_link_only': False,\n",
       "  'download_url': 'https://ndownloader.figshare.com/files/26579171',\n",
       "  'supplied_md5': '060b2020017eed93a1ee7dd8c65b2f34',\n",
       "  'computed_md5': '060b2020017eed93a1ee7dd8c65b2f34',\n",
       "  'mimetype': 'text/plain'},\n",
       " {'id': 26586554,\n",
       "  'name': 'README.md',\n",
       "  'size': 5422,\n",
       "  'is_link_only': False,\n",
       "  'download_url': 'https://ndownloader.figshare.com/files/26586554',\n",
       "  'supplied_md5': '61858c6cc0e6a6d6663a7e4c75bbd88c',\n",
       "  'computed_md5': '61858c6cc0e6a6d6663a7e4c75bbd88c',\n",
       "  'mimetype': 'text/x-python'},\n",
       " {'id': 26766812,\n",
       "  'name': 'data.zip',\n",
       "  'size': 814041183,\n",
       "  'is_link_only': False,\n",
       "  'download_url': 'https://ndownloader.figshare.com/files/26766812',\n",
       "  'supplied_md5': 'b517383f76e77bd03755a63a8ff83ee9',\n",
       "  'computed_md5': 'b517383f76e77bd03755a63a8ff83ee9',\n",
       "  'mimetype': 'application/zip'},\n",
       " {'id': 26766815,\n",
       "  'name': 'get_data.py',\n",
       "  'size': 4113,\n",
       "  'is_link_only': False,\n",
       "  'download_url': 'https://ndownloader.figshare.com/files/26766815',\n",
       "  'supplied_md5': '7829028495fd9dec9680ea013474afa6',\n",
       "  'computed_md5': '7829028495fd9dec9680ea013474afa6',\n",
       "  'mimetype': 'text/x-python'}]"
      ]
     },
     "execution_count": 4,
     "metadata": {},
     "output_type": "execute_result"
    }
   ],
   "source": [
    "response = requests.request(\"GET\", url, headers=headers)\n",
    "data = json.loads(response.text)  # this contains all the articles data, feel free to check it out\n",
    "files = data[\"files\"]             # this is just the data about the files, which is what we want\n",
    "files"
   ]
  },
  {
   "cell_type": "code",
   "execution_count": 5,
   "metadata": {},
   "outputs": [
    {
     "name": "stdout",
     "output_type": "stream",
     "text": [
      "CPU times: total: 2.28 s\n",
      "Wall time: 1min 19s\n"
     ]
    }
   ],
   "source": [
    "%%time\n",
    "\n",
    "# Download the file \"data.zip\"\n",
    "files_to_dl = [\"data.zip\"]\n",
    "for file in files:\n",
    "    if file[\"name\"] in files_to_dl:\n",
    "        os.makedirs(output_directory, exist_ok=True)\n",
    "        urlretrieve(file[\"download_url\"], output_directory + file[\"name\"])"
   ]
  },
  {
   "cell_type": "code",
   "execution_count": 6,
   "metadata": {},
   "outputs": [
    {
     "name": "stdout",
     "output_type": "stream",
     "text": [
      "CPU times: total: 13.4 s\n",
      "Wall time: 33.3 s\n"
     ]
    }
   ],
   "source": [
    "%%time\n",
    "\n",
    "# Unzip the CSVs from the zip file\n",
    "with zipfile.ZipFile(os.path.join(output_directory, \"data.zip\"), 'r') as f:\n",
    "    f.extractall(output_directory)"
   ]
  },
  {
   "cell_type": "code",
   "execution_count": 7,
   "metadata": {},
   "outputs": [
    {
     "name": "stdout",
     "output_type": "stream",
     "text": [
      " Volume in drive C is OS\n",
      " Volume Serial Number is 1837-1226\n",
      "\n",
      " Directory of c:\\Users\\timot\\OneDrive - UBC\\Documents\\Semester 2\\Block 6\\525\\rainfall-predictor\n",
      "\n",
      "\n",
      " Directory of c:\\Users\\timot\\OneDrive - UBC\\Documents\\Semester 2\\Block 6\\525\\rainfall-predictor\\data\n",
      "\n",
      "29/03/2025  11:39 am    <DIR>          .\n",
      "27/03/2025  12:33 am    <DIR>          ..\n",
      "25/03/2025  02:34 pm    <DIR>          __MACOSX\n",
      "29/03/2025  11:39 am       127,613,760 ACCESS-CM2_daily_rainfall_NSW.csv\n",
      "29/03/2025  11:39 am       114,707,410 ACCESS-ESM1-5_daily_rainfall_NSW.csv\n",
      "29/03/2025  11:39 am        94,960,113 AWI-ESM-1-1-LR_daily_rainfall_NSW.csv\n",
      "29/03/2025  11:39 am       294,260,911 BCC-CSM2-MR_daily_rainfall_NSW.csv\n",
      "29/03/2025  11:39 am        55,224,437 BCC-ESM1_daily_rainfall_NSW.csv\n",
      "29/03/2025  11:39 am        46,286,371 CanESM5_daily_rainfall_NSW.csv\n",
      "29/03/2025  11:39 am       330,360,682 CMCC-CM2-HR4_daily_rainfall_NSW.csv\n",
      "29/03/2025  11:39 am       328,787,320 CMCC-CM2-SR5_daily_rainfall_NSW.csv\n",
      "29/03/2025  11:39 am       328,852,379 CMCC-ESM2_daily_rainfall_NSW.csv\n",
      "29/03/2025  03:24 am     9,358,818,363 combined_data.csv\n",
      "29/03/2025  11:39 am       814,041,183 data.zip\n",
      "29/03/2025  11:39 am       295,768,615 EC-Earth3-Veg-LR_daily_rainfall_NSW.csv\n",
      "29/03/2025  11:39 am       232,118,894 FGOALS-f3-L_daily_rainfall_NSW.csv\n",
      "29/03/2025  11:39 am       116,179,272 FGOALS-g3_daily_rainfall_NSW.csv\n",
      "29/03/2025  11:39 am       235,661,418 GFDL-CM4_daily_rainfall_NSW.csv\n",
      "29/03/2025  11:39 am       124,586,961 GFDL-ESM4_daily_rainfall_NSW.csv\n",
      "29/03/2025  11:39 am       102,517,965 INM-CM4-8_daily_rainfall_NSW.csv\n",
      "29/03/2025  11:39 am       102,692,289 INM-CM5-0_daily_rainfall_NSW.csv\n",
      "29/03/2025  11:39 am        93,829,697 KIOST-ESM_daily_rainfall_NSW.csv\n",
      "29/03/2025  11:39 am       206,822,938 MIROC6_daily_rainfall_NSW.csv\n",
      "29/03/2025  11:39 am        95,376,895 MPI-ESM-1-2-HAM_daily_rainfall_NSW.csv\n",
      "29/03/2025  11:39 am       515,458,033 MPI-ESM1-2-HR_daily_rainfall_NSW.csv\n",
      "29/03/2025  11:39 am        95,640,682 MPI-ESM1-2-LR_daily_rainfall_NSW.csv\n",
      "29/03/2025  11:39 am       254,009,247 MRI-ESM2-0_daily_rainfall_NSW.csv\n",
      "29/03/2025  11:39 am        67,784,105 NESM3_daily_rainfall_NSW.csv\n",
      "29/03/2025  11:39 am        82,474,546 NorESM2-LM_daily_rainfall_NSW.csv\n",
      "29/03/2025  11:39 am       337,555,851 NorESM2-MM_daily_rainfall_NSW.csv\n",
      "29/03/2025  11:39 am           952,202 observed_daily_rainfall_SYD.csv\n",
      "29/03/2025  11:39 am       333,489,879 SAM0-UNICON_daily_rainfall_NSW.csv\n",
      "29/03/2025  11:39 am       332,813,281 TaiESM1_daily_rainfall_NSW.csv\n",
      "              30 File(s) 15,519,645,699 bytes\n",
      "               3 Dir(s)  98,321,985,536 bytes free\n"
     ]
    },
    {
     "name": "stderr",
     "output_type": "stream",
     "text": [
      "File Not Found\n"
     ]
    }
   ],
   "source": [
    "# View files that were extracted\n",
    "%ls -ltr data"
   ]
  },
  {
   "cell_type": "markdown",
   "metadata": {},
   "source": [
    "## 2) Combining CSVs"
   ]
  },
  {
   "cell_type": "code",
   "execution_count": 8,
   "metadata": {},
   "outputs": [
    {
     "name": "stdout",
     "output_type": "stream",
     "text": [
      "data//observed_daily_rainfall_SYD.csv deleted successfully.\n",
      "CPU times: total: 13min 23s\n",
      "Wall time: 14min 20s\n"
     ]
    }
   ],
   "source": [
    "%%time\n",
    "# Remove un-needed file\n",
    "remove_file = \"data//observed_daily_rainfall_SYD.csv\"\n",
    "\n",
    "if os.path.exists(remove_file):\n",
    "    os.remove(remove_file)\n",
    "    print(f\"{remove_file} deleted successfully.\")\n",
    "else:\n",
    "    print(f\"{remove_file} not found.\")\n",
    "    \n",
    "# Combine\n",
    "use_cols = [\"time\", \"lat_min\", \"lat_max\", \"lon_min\", \"lon_max\", \"rain (mm/day)\"]\n",
    "files = glob.glob('data/*.csv')\n",
    "df = pd.concat(pd.read_csv(file, index_col=0, usecols=use_cols)\n",
    "                .assign(model=re.findall(r\"data\\\\([^_]*)\", file)[0])    # Extra data\\ to account for Windows file scheme\n",
    "                for file in files\n",
    "              )\n",
    "df.to_csv(\"data/combined_data.csv\")"
   ]
  },
  {
   "cell_type": "markdown",
   "metadata": {},
   "source": [
    "**Time Comparison with Lab Members**\n",
    "\n",
    "| preferred lab partner(s) | Operating System | RAM | Processor | Is SSD | Time taken |\n",
    "|:-----------:|:----------------:|:---:|:---------:|:------:|:----------:|\n",
    "| Timothy Singh | Windows 11 Home | 16GB | Intel i7-11800H | Yes |  14 minutes |\n",
    "| Benjamin Frizzell*  | MacOS  | 8GB | Intel i5 Duo Core |  Yes | 3 minutes  |\n",
    "| Stephanie Ta   | Windows 10  | 16GB  | Intel i7-1065G7  |  Yes  | 4 minutes |\n",
    "| Meagan Gardener   |  MacOS  |  16GB  | Apple M3   |  Yes  | 3 minutes |\n",
    "\n",
    "*loaded with a parquet file\n",
    "\n",
    "From the comparison table it is seen that his task took much longer for me when compared with the members of my group. This was the lowest result of several attempts, which gave times of 17 minutes, 22 minutes, 31 minutes and 14 minutes. Some troubleshooting was attempted, by closing background programs, restarting my device and even varying between VS Code and JupyterLab (in browser). Note that VS Code yielded better times than JupyterLab in the browser. It was also noticed when combining RAM usage increased a bit, but peaked around 85%. The reason for such deviation in time could possibly be explained by the difference in OS, since I was the only member using Windows 11. Additionally, there were updates that were pending install, which could have potentially affected this. \n",
    "\n",
    "From the comparison, it appeared as though devices running MacOS performed this best in this task. Even though one member loaded with a parquet file, their device had 8GB RAM, and still performed better than the Windows 10 and Windows 11 devices. The member using Windows 10 still had a longer time than the member used MacOS with 8GB RAM. This further demonstrates that the Windows OS possibly takes more resources when compared to MacOS."
   ]
  },
  {
   "cell_type": "markdown",
   "metadata": {},
   "source": [
    "## 3) Load the combined CSV to memory and perform a simple EDA\n"
   ]
  },
  {
   "cell_type": "markdown",
   "metadata": {},
   "source": [
    "Here, we will load the data in chunks, getting rid of the `lat_min`, `lat_max`, `lon_min` and `lon_max` columns, and convert values in the `rain (mm/day)` column to `float32`"
   ]
  },
  {
   "cell_type": "code",
   "execution_count": 9,
   "metadata": {},
   "outputs": [
    {
     "name": "stdout",
     "output_type": "stream",
     "text": [
      "CPU times: total: 5min 50s\n",
      "Wall time: 6min 3s\n"
     ]
    }
   ],
   "source": [
    "%%time\n",
    "\n",
    "# Load only \"time\". \"model\" and \"rain (mm/day) columns, with \n",
    "# \"time\" as datetime, \"model\" as string and \"rain (mm/day) as float32\n",
    "# Also read as chunks, and perform EDA on each chunk\n",
    "\n",
    "usecols = [\"time\", \"rain (mm/day)\", \"model\"]\n",
    "dtypes = {\"time\": \"string\",\n",
    "          \"rain (mm/day)\": \"float32\",\n",
    "          \"model\": \"string\"}\n",
    "          \n",
    "value_counts = pd.Series(dtype=int)\n",
    "rainfall_total = pd.Series(dtype=float)\n",
    "\n",
    "for chunk in pd.read_csv(\"data/combined_data.csv\",\n",
    "    usecols = usecols,\n",
    "    dtype = dtypes,\n",
    "    parse_dates=[\"time\"] ,\n",
    "    chunksize=500_000\n",
    "):\n",
    "    value_counts = value_counts.add(chunk[\"model\"].value_counts(), fill_value=0)\n",
    "    rainfall_total = rainfall_total.add(chunk.groupby(\"model\")[\"rain (mm/day)\"].sum(), fill_value=0)"
   ]
  },
  {
   "cell_type": "code",
   "execution_count": 10,
   "metadata": {},
   "outputs": [
    {
     "data": {
      "text/html": [
       "<div>\n",
       "<style scoped>\n",
       "    .dataframe tbody tr th:only-of-type {\n",
       "        vertical-align: middle;\n",
       "    }\n",
       "\n",
       "    .dataframe tbody tr th {\n",
       "        vertical-align: top;\n",
       "    }\n",
       "\n",
       "    .dataframe thead th {\n",
       "        text-align: right;\n",
       "    }\n",
       "</style>\n",
       "<table border=\"1\" class=\"dataframe\">\n",
       "  <thead>\n",
       "    <tr style=\"text-align: right;\">\n",
       "      <th></th>\n",
       "      <th>model</th>\n",
       "      <th>rainfall_total</th>\n",
       "      <th>values_count</th>\n",
       "    </tr>\n",
       "  </thead>\n",
       "  <tbody>\n",
       "    <tr>\n",
       "      <th>0</th>\n",
       "      <td>ACCESS-CM2</td>\n",
       "      <td>3.454034e+06</td>\n",
       "      <td>1932840.0</td>\n",
       "    </tr>\n",
       "    <tr>\n",
       "      <th>1</th>\n",
       "      <td>ACCESS-ESM1-5</td>\n",
       "      <td>3.571729e+06</td>\n",
       "      <td>1610700.0</td>\n",
       "    </tr>\n",
       "    <tr>\n",
       "      <th>2</th>\n",
       "      <td>AWI-ESM-1-1-LR</td>\n",
       "      <td>1.958036e+06</td>\n",
       "      <td>966420.0</td>\n",
       "    </tr>\n",
       "    <tr>\n",
       "      <th>3</th>\n",
       "      <td>BCC-CSM2-MR</td>\n",
       "      <td>5.924474e+06</td>\n",
       "      <td>3035340.0</td>\n",
       "    </tr>\n",
       "    <tr>\n",
       "      <th>4</th>\n",
       "      <td>BCC-ESM1</td>\n",
       "      <td>9.994724e+05</td>\n",
       "      <td>551880.0</td>\n",
       "    </tr>\n",
       "    <tr>\n",
       "      <th>5</th>\n",
       "      <td>CMCC-CM2-HR4</td>\n",
       "      <td>8.071704e+06</td>\n",
       "      <td>3541230.0</td>\n",
       "    </tr>\n",
       "    <tr>\n",
       "      <th>6</th>\n",
       "      <td>CMCC-CM2-SR5</td>\n",
       "      <td>8.440127e+06</td>\n",
       "      <td>3541230.0</td>\n",
       "    </tr>\n",
       "    <tr>\n",
       "      <th>7</th>\n",
       "      <td>CMCC-ESM2</td>\n",
       "      <td>8.024869e+06</td>\n",
       "      <td>3541230.0</td>\n",
       "    </tr>\n",
       "    <tr>\n",
       "      <th>8</th>\n",
       "      <td>CanESM5</td>\n",
       "      <td>1.045442e+06</td>\n",
       "      <td>551880.0</td>\n",
       "    </tr>\n",
       "    <tr>\n",
       "      <th>9</th>\n",
       "      <td>EC-Earth3-Veg-LR</td>\n",
       "      <td>4.605362e+06</td>\n",
       "      <td>3037320.0</td>\n",
       "    </tr>\n",
       "    <tr>\n",
       "      <th>10</th>\n",
       "      <td>FGOALS-f3-L</td>\n",
       "      <td>5.239002e+06</td>\n",
       "      <td>3219300.0</td>\n",
       "    </tr>\n",
       "    <tr>\n",
       "      <th>11</th>\n",
       "      <td>FGOALS-g3</td>\n",
       "      <td>2.776864e+06</td>\n",
       "      <td>1287720.0</td>\n",
       "    </tr>\n",
       "    <tr>\n",
       "      <th>12</th>\n",
       "      <td>GFDL-CM4</td>\n",
       "      <td>4.553653e+06</td>\n",
       "      <td>3219300.0</td>\n",
       "    </tr>\n",
       "    <tr>\n",
       "      <th>13</th>\n",
       "      <td>GFDL-ESM4</td>\n",
       "      <td>0.000000e+00</td>\n",
       "      <td>3219300.0</td>\n",
       "    </tr>\n",
       "    <tr>\n",
       "      <th>14</th>\n",
       "      <td>INM-CM4-8</td>\n",
       "      <td>4.525471e+06</td>\n",
       "      <td>1609650.0</td>\n",
       "    </tr>\n",
       "    <tr>\n",
       "      <th>15</th>\n",
       "      <td>INM-CM5-0</td>\n",
       "      <td>4.296175e+06</td>\n",
       "      <td>1609650.0</td>\n",
       "    </tr>\n",
       "    <tr>\n",
       "      <th>16</th>\n",
       "      <td>KIOST-ESM</td>\n",
       "      <td>1.419522e+06</td>\n",
       "      <td>1287720.0</td>\n",
       "    </tr>\n",
       "    <tr>\n",
       "      <th>17</th>\n",
       "      <td>MIROC6</td>\n",
       "      <td>4.766511e+06</td>\n",
       "      <td>2070900.0</td>\n",
       "    </tr>\n",
       "    <tr>\n",
       "      <th>18</th>\n",
       "      <td>MPI-ESM-1-2-HAM</td>\n",
       "      <td>1.556632e+06</td>\n",
       "      <td>966420.0</td>\n",
       "    </tr>\n",
       "    <tr>\n",
       "      <th>19</th>\n",
       "      <td>MPI-ESM1-2-HR</td>\n",
       "      <td>5.131401e+06</td>\n",
       "      <td>5154240.0</td>\n",
       "    </tr>\n",
       "    <tr>\n",
       "      <th>20</th>\n",
       "      <td>MPI-ESM1-2-LR</td>\n",
       "      <td>1.038233e+06</td>\n",
       "      <td>966420.0</td>\n",
       "    </tr>\n",
       "    <tr>\n",
       "      <th>21</th>\n",
       "      <td>MRI-ESM2-0</td>\n",
       "      <td>4.155145e+06</td>\n",
       "      <td>3037320.0</td>\n",
       "    </tr>\n",
       "    <tr>\n",
       "      <th>22</th>\n",
       "      <td>NESM3</td>\n",
       "      <td>1.567471e+06</td>\n",
       "      <td>966420.0</td>\n",
       "    </tr>\n",
       "    <tr>\n",
       "      <th>23</th>\n",
       "      <td>NorESM2-LM</td>\n",
       "      <td>2.051889e+06</td>\n",
       "      <td>919800.0</td>\n",
       "    </tr>\n",
       "    <tr>\n",
       "      <th>24</th>\n",
       "      <td>NorESM2-MM</td>\n",
       "      <td>7.907445e+06</td>\n",
       "      <td>3541230.0</td>\n",
       "    </tr>\n",
       "    <tr>\n",
       "      <th>25</th>\n",
       "      <td>SAM0-UNICON</td>\n",
       "      <td>7.683156e+06</td>\n",
       "      <td>3541153.0</td>\n",
       "    </tr>\n",
       "    <tr>\n",
       "      <th>26</th>\n",
       "      <td>TaiESM1</td>\n",
       "      <td>7.877735e+06</td>\n",
       "      <td>3541230.0</td>\n",
       "    </tr>\n",
       "    <tr>\n",
       "      <th>27</th>\n",
       "      <td>combined</td>\n",
       "      <td>2.030462e+08</td>\n",
       "      <td>94388832.0</td>\n",
       "    </tr>\n",
       "  </tbody>\n",
       "</table>\n",
       "</div>"
      ],
      "text/plain": [
       "               model  rainfall_total  values_count\n",
       "0         ACCESS-CM2    3.454034e+06     1932840.0\n",
       "1      ACCESS-ESM1-5    3.571729e+06     1610700.0\n",
       "2     AWI-ESM-1-1-LR    1.958036e+06      966420.0\n",
       "3        BCC-CSM2-MR    5.924474e+06     3035340.0\n",
       "4           BCC-ESM1    9.994724e+05      551880.0\n",
       "5       CMCC-CM2-HR4    8.071704e+06     3541230.0\n",
       "6       CMCC-CM2-SR5    8.440127e+06     3541230.0\n",
       "7          CMCC-ESM2    8.024869e+06     3541230.0\n",
       "8            CanESM5    1.045442e+06      551880.0\n",
       "9   EC-Earth3-Veg-LR    4.605362e+06     3037320.0\n",
       "10       FGOALS-f3-L    5.239002e+06     3219300.0\n",
       "11         FGOALS-g3    2.776864e+06     1287720.0\n",
       "12          GFDL-CM4    4.553653e+06     3219300.0\n",
       "13         GFDL-ESM4    0.000000e+00     3219300.0\n",
       "14         INM-CM4-8    4.525471e+06     1609650.0\n",
       "15         INM-CM5-0    4.296175e+06     1609650.0\n",
       "16         KIOST-ESM    1.419522e+06     1287720.0\n",
       "17            MIROC6    4.766511e+06     2070900.0\n",
       "18   MPI-ESM-1-2-HAM    1.556632e+06      966420.0\n",
       "19     MPI-ESM1-2-HR    5.131401e+06     5154240.0\n",
       "20     MPI-ESM1-2-LR    1.038233e+06      966420.0\n",
       "21        MRI-ESM2-0    4.155145e+06     3037320.0\n",
       "22             NESM3    1.567471e+06      966420.0\n",
       "23        NorESM2-LM    2.051889e+06      919800.0\n",
       "24        NorESM2-MM    7.907445e+06     3541230.0\n",
       "25       SAM0-UNICON    7.683156e+06     3541153.0\n",
       "26           TaiESM1    7.877735e+06     3541230.0\n",
       "27          combined    2.030462e+08    94388832.0"
      ]
     },
     "execution_count": 10,
     "metadata": {},
     "output_type": "execute_result"
    }
   ],
   "source": [
    "eda_summary = pd.DataFrame({\n",
    "    \"model\": rainfall_total.index,\n",
    "    \"rainfall_total\": rainfall_total.values,\n",
    "    \"values_count\": value_counts.values\n",
    "    }\n",
    ")\n",
    "\n",
    "eda_summary"
   ]
  },
  {
   "cell_type": "code",
   "execution_count": 11,
   "metadata": {},
   "outputs": [
    {
     "data": {
      "image/png": "[encoded data removed]",
      "text/plain": [
       "<Figure size 1000x500 with 1 Axes>"
      ]
     },
     "metadata": {},
     "output_type": "display_data"
    }
   ],
   "source": [
    "import matplotlib.pyplot as plt\n",
    "\n",
    "plt.figure(figsize=(10, 5))\n",
    "plt.bar(eda_summary[\"model\"], eda_summary[\"rainfall_total\"], color=\"skyblue\")\n",
    "\n",
    "# Titles and labels\n",
    "plt.title(\"Total Rainfall by Model\", fontsize=14)\n",
    "plt.xlabel(\"Model\", fontsize=12)\n",
    "plt.ylabel(\"Total Rainfall (mm)\", fontsize=12)\n",
    "plt.xticks(rotation=90)  \n",
    "\n",
    "plt.show();\n"
   ]
  },
  {
   "cell_type": "markdown",
   "metadata": {},
   "source": [
    "**Time Comparison with Lab Members**\n",
    "\n",
    "| preferred lab partner(s) | Operating System | RAM | Processor | Is SSD | Time taken | Methods used for Loading |\n",
    "|:-----------:|:----------------:|:---:|:---------:|:------:|:----------:|:---------------------------:|\n",
    "| Timothy Singh | Windows 11 Home | 16GB | Intel i7-11800H | Yes |  6 minutes | Only relevant columns, data type conversion, chunk loading |\n",
    "| Benjamin Frizzell  | MacOS  | 8GB | Intel i5 Duo Core |  Yes | 1 minute  | Only relevant columns, data type conversion, parquet file saving |\n",
    "| Stephanie Ta   | Windows 10  | 16GB  | Intel i7-1065G7  |  Yes  | 1 minute | Only relevant columns, data type conversion | \n",
    "| Meagan Gardener   |  MacOS  |  16GB  | Apple M3   |  Yes  | 20 seconds | Only relevant columns, data type conversion |\n",
    "\n",
    "\n",
    "Similar to the results in Question 2, my device yielded the longest time for this operation when compared to my group members. Other than myself, no other member performmed \"chunk loading\", but the times are not an accurate comparison due to the unusually long times on my device. This was attempted with a chunk size of 1_000_000, then 500_000, of which the latter gave slightly better performance (~25 seconds faster). Other than OS, a possible cause of this could be that multiple cores of the CPU not being utilized for this task, resulting in slower times. Overall, the comparison shows that the Apple M3 CPU yields the best performances among the difference CPUs, along with the MacOS operating systems also performing the best among operating systems."
   ]
  },
  {
   "cell_type": "markdown",
   "metadata": {},
   "source": [
    "## 4) Perform a simple EDA in R"
   ]
  },
  {
   "cell_type": "code",
   "execution_count": 18,
   "metadata": {},
   "outputs": [
    {
     "name": "stdout",
     "output_type": "stream",
     "text": [
      "CPU times: total: 188 ms\n",
      "Wall time: 530 ms\n"
     ]
    }
   ],
   "source": [
    "# Since we already have the entire dataset loaded in memory from \n",
    "# as a dataframe (df), we can use pyarrow to convert it into a \n",
    "# table and subsequently pyra.\n",
    "\n",
    "filepathcsv = \"data/combined_data.csv\"\n",
    "dataset = ds.dataset(filepathcsv, format=\"csv\")\n",
    "table = dataset.to_table()\n",
    "%time r_table = pyra.converter.py2rpy(table)"
   ]
  },
  {
   "cell_type": "code",
   "execution_count": 19,
   "metadata": {},
   "outputs": [
    {
     "name": "stdout",
     "output_type": "stream",
     "text": [
      "              model rainfall_total values_count\n",
      "1        ACCESS-CM2      3454033.5      1932840\n",
      "2     ACCESS-ESM1-5      3571729.0      1610700\n",
      "3    AWI-ESM-1-1-LR      1958035.9       966420\n",
      "4       BCC-CSM2-MR      5924474.2      3035340\n",
      "5          BCC-ESM1       999472.4       551880\n",
      "6           CanESM5      1045441.6       551880\n",
      "7      CMCC-CM2-HR4      8071704.2      3541230\n",
      "8      CMCC-CM2-SR5      8440126.9      3541230\n",
      "9         CMCC-ESM2      8024868.6      3541230\n",
      "10         combined    203046194.9     94388832\n",
      "11 EC-Earth3-Veg-LR      4605362.0      3037320\n",
      "12      FGOALS-f3-L      5239002.4      3219300\n",
      "13        FGOALS-g3      2776864.5      1287720\n",
      "14         GFDL-CM4      4553652.5      3219300\n",
      "15        GFDL-ESM4            0.0      3219300\n",
      "16        INM-CM4-8      4525471.1      1609650\n",
      "17        INM-CM5-0      4296175.4      1609650\n",
      "18        KIOST-ESM      1419521.5      1287720\n",
      "19           MIROC6      4766511.2      2070900\n",
      "20  MPI-ESM-1-2-HAM      1556631.6       966420\n",
      "21    MPI-ESM1-2-HR      5131400.6      5154240\n",
      "22    MPI-ESM1-2-LR      1038233.2       966420\n",
      "23       MRI-ESM2-0      4155145.1      3037320\n",
      "24            NESM3      1567471.4       966420\n",
      "25       NorESM2-LM      2051889.0       919800\n",
      "26       NorESM2-MM      7907445.0      3541230\n",
      "27      SAM0-UNICON      7683156.1      3541153\n",
      "28          TaiESM1      7877735.4      3541230\n"
     ]
    },
    {
     "data": {
      "image/png": "[encoded data removed]",
      "text/plain": [
       "<IPython.core.display.Image object>"
      ]
     },
     "metadata": {},
     "output_type": "display_data"
    }
   ],
   "source": [
    "%%R -i r_table\n",
    "\n",
    "# Load libraries\n",
    "suppressMessages(library(tidyverse))\n",
    "suppressMessages(library(ggplot2))\n",
    "\n",
    "# Perform data wrangling to do EDA. Just as before, we are getting\n",
    "# the total rainfall and value counts per model\n",
    "result <- r_table |>\n",
    "    select(time, model, `rain (mm/day)`) |>\n",
    "    group_by(model) |>\n",
    "    summarize(rainfall_total = sum(`rain (mm/day)`, na.rm = TRUE),\n",
    "             values_count = n())\n",
    "print(as.data.frame(result))\n",
    "\n",
    "# Make a similar plot as in Python\n",
    "plot <- as.data.frame(result) |>\n",
    "    ggplot(aes(x = model, y = rainfall_total)) +\n",
    "    geom_bar(stat = \"identity\") +\n",
    "    ggtitle(\"Total Rainfall by Model\") +\n",
    "    xlab(\"Model\") +\n",
    "    ylab(\"Total Rainfall (mm)\") +\n",
    "    theme(axis.text.x = element_text(angle = 90, hjust = 1))\n",
    "\n",
    "plot"
   ]
  },
  {
   "cell_type": "markdown",
   "metadata": {},
   "source": [
    "Arrow exchange (using pyarrow) was selected as the method for transferring the entire dataframe from Python to R. Serialization refers to the process of saving an object state as a sequence of bytes so it can be saved as a file (typically a CSV). Deserialization is the opposite of serialization where these bytes are reconstructed into an object that can be used in a programming language. This method of arrow exchange simplifies the serialization/deserialization process allowing the data to be transferred directly from Python to R, without any extra overhead of reading another file into memory. Also this method supports and even abstracts chunking and parallelism, improving the efficiency of loading and transferring the data.\n",
    "\n",
    "Another viable option could have been to use parquet file, which decreases the reading time in R, but this comes with the disadvantage of having to save an additional file to disk. This would increase the overall time, since a new file would have to be created and read into memory. To preserve the limited disk space, the arrow exchange method was used in this case. The pandas exchange method requires loading the data, and converting which is slow and less efficient."
   ]
  }
 ],
 "metadata": {
  "kernelspec": {
   "display_name": "525_2025",
   "language": "python",
   "name": "python3"
  },
  "language_info": {
   "codemirror_mode": {
    "name": "ipython",
    "version": 3
   },
   "file_extension": ".py",
   "mimetype": "text/x-python",
   "name": "python",
   "nbconvert_exporter": "python",
   "pygments_lexer": "ipython3",
   "version": "3.11.11"
  }
 },
 "nbformat": 4,
 "nbformat_minor": 4
}
