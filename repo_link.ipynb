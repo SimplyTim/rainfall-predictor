{
 "cells": [
  {
   "cell_type": "markdown",
   "id": "954b4100-71f8-445c-91e2-9196dc0f1c1d",
   "metadata": {},
   "source": [
    "Link to GitHub repository: https://github.com/SimplyTim/rainfall-predictor"
   ]
  },
  {
   "cell_type": "code",
   "execution_count": null,
   "id": "a9b87342-0b45-4d44-844e-17dff7251add",
   "metadata": {},
   "outputs": [],
   "source": []
  }
 ],
 "metadata": {
  "kernelspec": {
   "display_name": "Python 3 (ipykernel)",
   "language": "python",
   "name": "python3"
  },
  "language_info": {
   "codemirror_mode": {
    "name": "ipython",
    "version": 3
   },
   "file_extension": ".py",
   "mimetype": "text/x-python",
   "name": "python",
   "nbconvert_exporter": "python",
   "pygments_lexer": "ipython3",
   "version": "3.11.11"
  }
 },
 "nbformat": 4,
 "nbformat_minor": 5
}
